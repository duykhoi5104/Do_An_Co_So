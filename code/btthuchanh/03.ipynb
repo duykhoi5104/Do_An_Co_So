{
 "cells": [
  {
   "cell_type": "code",
   "execution_count": 7,
   "metadata": {},
   "outputs": [],
   "source": [
    "# Import Image\n",
    "from PIL import Image"
   ]
  },
  {
   "cell_type": "code",
   "execution_count": 8,
   "metadata": {},
   "outputs": [],
   "source": [
    "# shift + enter : run code + add row\n",
    "# Install :\n",
    "#!pip install Pillow\n",
    "# !conda install Pillow"
   ]
  },
  {
   "cell_type": "code",
   "execution_count": 13,
   "metadata": {},
   "outputs": [],
   "source": [
    "# Thư mục chứa hình ảnh:\n",
    "dir = '/Users/ttdat/Documents/Do_An_Co_So/code/btthuchanh'"
   ]
  },
  {
   "cell_type": "code",
   "execution_count": 14,
   "metadata": {},
   "outputs": [
    {
     "name": "stdout",
     "output_type": "stream",
     "text": [
      "/Users/ttdat/Documents/Do_An_Co_So/code/btthuchanh/1.JPG\n"
     ]
    }
   ],
   "source": [
    "# Tạo 1 đường dẫn đến hình ảnh:\n",
    "image_path = dir + '/1.JPG' \n",
    "print(image_path)"
   ]
  },
  {
   "cell_type": "code",
   "execution_count": 15,
   "metadata": {},
   "outputs": [],
   "source": [
    "# Sử dụng Image.open() đọc ảnh\n",
    "img01 = Image.open(image_path)\n",
    "img01.show()"
   ]
  },
  {
   "cell_type": "code",
   "execution_count": 17,
   "metadata": {},
   "outputs": [
    {
     "name": "stdout",
     "output_type": "stream",
     "text": [
      "Định dạng ảnh:  JPEG\n"
     ]
    }
   ],
   "source": [
    "# In một số thông tin của ảnh:\n",
    "# In định dạng của ảnh:\n",
    "print(\"Định dạng ảnh: \", img01.format)\n"
   ]
  },
  {
   "cell_type": "code",
   "execution_count": 18,
   "metadata": {},
   "outputs": [
    {
     "name": "stdout",
     "output_type": "stream",
     "text": [
      "Kích thước ảnh:  (500, 332)\n"
     ]
    }
   ],
   "source": [
    "# In ra size:\n",
    "print(\"Kích thước ảnh: \", img01.size)\n"
   ]
  },
  {
   "cell_type": "code",
   "execution_count": 19,
   "metadata": {},
   "outputs": [],
   "source": [
    "# Lưu ảnh và chuyển đổi\n",
    "new_img_01_path = dir + '/new_01.JPG'\n",
    "new_img_png_01_path = dir + '/new_01.PNG'\n",
    "img01.save(new_img_01_path)\n",
    "img01.save(new_img_png_01_path)"
   ]
  },
  {
   "cell_type": "code",
   "execution_count": null,
   "metadata": {},
   "outputs": [],
   "source": [
    "# Đóng tập tin: \n",
    "# img01.close()\n"
   ]
  }
 ],
 "metadata": {
  "kernelspec": {
   "display_name": "Python 3",
   "language": "python",
   "name": "python3"
  },
  "language_info": {
   "codemirror_mode": {
    "name": "ipython",
    "version": 3
   },
   "file_extension": ".py",
   "mimetype": "text/x-python",
   "name": "python",
   "nbconvert_exporter": "python",
   "pygments_lexer": "ipython3",
   "version": "3.12.6"
  }
 },
 "nbformat": 4,
 "nbformat_minor": 2
}
