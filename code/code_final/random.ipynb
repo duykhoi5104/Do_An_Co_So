{
 "cells": [
  {
   "cell_type": "code",
   "execution_count": null,
   "metadata": {},
   "outputs": [],
   "source": [
    "import numpy as np\n",
    "from sklearn.ensemble import RandomForestClassifier\n",
    "from sklearn.metrics import accuracy_score, classification_report\n",
    "from collections import Counter\n",
    "import joblib\n",
    "import optuna\n",
    "from sklearn.model_selection import cross_val_score"
   ]
  },
  {
   "cell_type": "code",
   "execution_count": null,
   "metadata": {},
   "outputs": [],
   "source": [
    "\n",
    "train = np.load(\"nạp dữ liệu\")\n",
    "X_train, y_train = train[\"X\"], train[\"y\"]\n",
    "\n",
    "test = np.load(\"nạp dữ liệu\")\n",
    "X_test, y_test = test[\"X\"], test[\"y\"]"
   ]
  },
  {
   "cell_type": "code",
   "execution_count": null,
   "metadata": {},
   "outputs": [],
   "source": [
    "def objective(trial):\n",
    "    # Định nghĩa hàm mục tiêu, nhận một 'trial' đại diện cho lần thử tham số\n",
    "    n_estimators = trial.suggest_int('n_estimators', 50, 300)  \n",
    "    # Tối ưu số lượng cây từ 50 đến 300\n",
    "    max_depth = trial.suggest_int('max_depth', 5, 30)  \n",
    "    # Tối ưu độ sâu tối đa của cây từ 5 đến 30\n",
    "    max_features = trial.suggest_categorical('max_features', ['auto', 'sqrt', 'log2'])  \n",
    "    # Tối ưu số đặc trưng xem xét khi phân chia nút, chọn trong 3 kiểu phổ biến\n",
    "    min_samples_split = trial.suggest_int('min_samples_split', 2, 10)  \n",
    "    # Tối ưu số mẫu tối thiểu để phân chia một nút\n",
    "    class_weight = trial.suggest_categorical('class_weight', [None, 'balanced'])  \n",
    "    # Tối ưu class_weight: không dùng hoặc cân bằng trọng số lớp\n",
    "    \n",
    "    # Random_state được tối ưu là 42\n",
    "    random_state = 42\n",
    "    \n",
    "    # Tối ưu n_jobs\n",
    "    n_jobs = -1\n",
    "    \n",
    "    # Khởi tạo mô hình RandomForest với các tham số được thử nghiệm\n",
    "    clf = RandomForestClassifier(\n",
    "        n_estimators=n_estimators,\n",
    "        max_depth=max_depth,\n",
    "        max_features=max_features,\n",
    "        min_samples_split=min_samples_split,\n",
    "        class_weight=class_weight,\n",
    "        random_state=random_state,\n",
    "        n_jobs=n_jobs\n",
    "    )\n",
    "    \n",
    "    # Huấn luyện mô hình với tập train\n",
    "    clf.fit(X_train, y_train)\n",
    "    # Dự đoán trên tập test\n",
    "    y_pred = clf.predict(X_test)\n",
    "    # Trả về accuracy làm metric để tối ưu\n",
    "    return accuracy_score(y_test, y_pred)"
   ]
  },
  {
   "cell_type": "code",
   "execution_count": null,
   "metadata": {},
   "outputs": [],
   "source": [
    "# Tạo study Optuna, đặt hướng tối ưu là 'maximize' (tăng accuracy)\n",
    "study = optuna.create_study(direction='maximize')\n",
    "# Chạy tối ưu hàm objective trong 30 lần thử\n",
    "study.optimize(objective, n_trials=30)"
   ]
  },
  {
   "cell_type": "code",
   "execution_count": null,
   "metadata": {},
   "outputs": [],
   "source": [
    "# In ra kết quả tốt nhất tìm được sau 30 lần thử\n",
    "print(\"Best trial:\")\n",
    "print(f\"Accuracy: {study.best_trial.value}\")  # Giá trị accuracy cao nhất\n",
    "print(\"Params:\")\n",
    "for key, value in study.best_trial.params.items():\n",
    "    print(f\"  {key}: {value}\")  # In tham số tốt nhất của mô hình"
   ]
  },
  {
   "cell_type": "code",
   "execution_count": null,
   "metadata": {},
   "outputs": [
    {
     "data": {
      "text/plain": [
       "['model_randomforest.joblib']"
      ]
     },
     "execution_count": 3,
     "metadata": {},
     "output_type": "execute_result"
    }
   ],
   "source": [
    "# Train lại với tham số tốt nhất\n",
    "best_params = study.best_trial.params\n",
    "best_rf = RandomForestClassifier(\n",
    "    **best_params,\n",
    "    random_state=42,\n",
    "    n_jobs= -1\n",
    ")\n",
    "best_rf.fit(X_train, y_train)"
   ]
  },
  {
   "cell_type": "code",
   "execution_count": null,
   "metadata": {},
   "outputs": [],
   "source": [
    "# Lưu model\n",
    "joblib.dump(best_rf, \"model_randomforest_optuna_face.joblib\")\n"
   ]
  },
  {
   "cell_type": "code",
   "execution_count": null,
   "metadata": {},
   "outputs": [
    {
     "name": "stdout",
     "output_type": "stream",
     "text": [
      "\n",
      " Kết quả mô hình Random Forest:\n",
      "Accuracy: 0.9951690821256038\n",
      "               precision    recall  f1-score   support\n",
      "\n",
      "     Duy Khôi       1.00      1.00      1.00         2\n",
      "        Dũng       1.00      1.00      1.00         2\n",
      "      Dương       1.00      1.00      1.00        16\n",
      "          Hà       1.00      1.00      1.00         2\n",
      "       Hiếu       0.96      1.00      0.98        24\n",
      "        Hưng       1.00      1.00      1.00         2\n",
      "         Khôi       1.00      0.50      0.67         2\n",
      "        Lành       1.00      1.00      1.00         6\n",
      "         Linh       1.00      1.00      1.00        36\n",
      "        Luân       1.00      1.00      1.00         3\n",
      "       Nghĩa       1.00      1.00      1.00         3\n",
      "       Nguyên       1.00      1.00      1.00         9\n",
      "Nhật Tiến       1.00      1.00      1.00         2\n",
      "         Phú       1.00      1.00      1.00         5\n",
      "     Phương       1.00      1.00      1.00        18\n",
      "        Quang       1.00      1.00      1.00        21\n",
      "        Quân       1.00      1.00      1.00         5\n",
      "         Sang       1.00      1.00      1.00        12\n",
      "  Thanh Bình       1.00      1.00      1.00         2\n",
      "  Thăng Long       1.00      1.00      1.00         5\n",
      "       Tiến       1.00      1.00      1.00         3\n",
      "       Trường       1.00      1.00      1.00         2\n",
      "   Văn Mạnh       1.00      1.00      1.00         6\n",
      "  Văn Tiến       1.00      1.00      1.00         2\n",
      "   Xuân Hải       1.00      1.00      1.00        12\n",
      "        Đức       1.00      1.00      1.00         5\n",
      "\n",
      "     accuracy                           1.00       207\n",
      "    macro avg       1.00      0.98      0.99       207\n",
      " weighted avg       1.00      1.00      0.99       207\n",
      "\n"
     ]
    }
   ],
   "source": [
    "# Đánh giá chi tiết mô hình trên tập test\n",
    "y_pred = best_rf.predict(X_test)\n",
    "print(\"\\nKết quả mô hình Random Forest tối ưu:\")\n",
    "print(\"Accuracy:\", accuracy_score(y_test, y_pred))  # Độ chính xác\n",
    "print(classification_report(y_test, y_pred, zero_division=0))  # Báo cáo chi tiết precision, recall,...\n",
    "\n",
    "\n",
    "# Tạo danh sách các mẫu dự đoán sai\n",
    "wrong = [(true, pred) for true, pred in zip(y_test, y_pred) if true != pred]\n",
    "print(f\"[!] Số mẫu sai: {len(wrong)}\")  # Số mẫu bị phân loại sai\n",
    "print(\"Một số lỗi phổ biến:\", Counter(wrong).most_common(5))  # 5 lỗi sai phổ biến nhất"
   ]
  }
 ],
 "metadata": {
  "kernelspec": {
   "display_name": "tf_dl",
   "language": "python",
   "name": "python3"
  },
  "language_info": {
   "codemirror_mode": {
    "name": "ipython",
    "version": 3
   },
   "file_extension": ".py",
   "mimetype": "text/x-python",
   "name": "python",
   "nbconvert_exporter": "python",
   "pygments_lexer": "ipython3",
   "version": "3.10.16"
  }
 },
 "nbformat": 4,
 "nbformat_minor": 2
}
