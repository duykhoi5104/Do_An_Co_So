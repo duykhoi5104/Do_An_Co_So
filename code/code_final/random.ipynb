{
 "cells": [
  {
   "cell_type": "code",
   "execution_count": 1,
   "metadata": {},
   "outputs": [],
   "source": [
    "import numpy as np\n",
    "from sklearn.ensemble import RandomForestClassifier\n",
    "from sklearn.metrics import accuracy_score, classification_report\n",
    "from collections import Counter\n",
    "import joblib"
   ]
  },
  {
   "cell_type": "code",
   "execution_count": 2,
   "metadata": {},
   "outputs": [],
   "source": [
    "\n",
    "train = np.load(\"/Users/ttdat/Documents/Do_An_Co_So/code/code_final/train_embeddings.npz\")\n",
    "X_train, y_train = train[\"X\"], train[\"y\"]\n",
    "\n",
    "test = np.load(\"/Users/ttdat/Documents/Do_An_Co_So/code/code_final/test_embeddings.npz\")\n",
    "X_test, y_test = test[\"X\"], test[\"y\"]"
   ]
  },
  {
   "cell_type": "code",
   "execution_count": 3,
   "metadata": {},
   "outputs": [
    {
     "data": {
      "text/plain": [
       "['model_randomforest.joblib']"
      ]
     },
     "execution_count": 3,
     "metadata": {},
     "output_type": "execute_result"
    }
   ],
   "source": [
    "\n",
    "rf = RandomForestClassifier(n_estimators=100, random_state=42, n_jobs=-1, class_weight='balanced')\n",
    "rf.fit(X_train, y_train)\n",
    "joblib.dump(rf, \"model_randomforest.joblib\")\n"
   ]
  },
  {
   "cell_type": "code",
   "execution_count": 4,
   "metadata": {},
   "outputs": [],
   "source": [
    "y_pred = rf.predict(X_test)\n"
   ]
  },
  {
   "cell_type": "code",
   "execution_count": 5,
   "metadata": {},
   "outputs": [
    {
     "name": "stdout",
     "output_type": "stream",
     "text": [
      "\n",
      " Kết quả mô hình Random Forest:\n",
      "Accuracy: 0.9951690821256038\n",
      "               precision    recall  f1-score   support\n",
      "\n",
      "     Duy Khôi       1.00      1.00      1.00         2\n",
      "        Dũng       1.00      1.00      1.00         2\n",
      "      Dương       1.00      1.00      1.00        16\n",
      "          Hà       1.00      1.00      1.00         2\n",
      "       Hiếu       0.96      1.00      0.98        24\n",
      "        Hưng       1.00      1.00      1.00         2\n",
      "         Khôi       1.00      0.50      0.67         2\n",
      "        Lành       1.00      1.00      1.00         6\n",
      "         Linh       1.00      1.00      1.00        36\n",
      "        Luân       1.00      1.00      1.00         3\n",
      "       Nghĩa       1.00      1.00      1.00         3\n",
      "       Nguyên       1.00      1.00      1.00         9\n",
      "Nhật Tiến       1.00      1.00      1.00         2\n",
      "         Phú       1.00      1.00      1.00         5\n",
      "     Phương       1.00      1.00      1.00        18\n",
      "        Quang       1.00      1.00      1.00        21\n",
      "        Quân       1.00      1.00      1.00         5\n",
      "         Sang       1.00      1.00      1.00        12\n",
      "  Thanh Bình       1.00      1.00      1.00         2\n",
      "  Thăng Long       1.00      1.00      1.00         5\n",
      "       Tiến       1.00      1.00      1.00         3\n",
      "       Trường       1.00      1.00      1.00         2\n",
      "   Văn Mạnh       1.00      1.00      1.00         6\n",
      "  Văn Tiến       1.00      1.00      1.00         2\n",
      "   Xuân Hải       1.00      1.00      1.00        12\n",
      "        Đức       1.00      1.00      1.00         5\n",
      "\n",
      "     accuracy                           1.00       207\n",
      "    macro avg       1.00      0.98      0.99       207\n",
      " weighted avg       1.00      1.00      0.99       207\n",
      "\n"
     ]
    }
   ],
   "source": [
    "\n",
    "print(\"\\n Kết quả mô hình Random Forest:\")\n",
    "print(\"Accuracy:\", accuracy_score(y_test, y_pred))\n",
    "print(classification_report(y_test, y_pred, zero_division=0))"
   ]
  },
  {
   "cell_type": "code",
   "execution_count": 6,
   "metadata": {},
   "outputs": [
    {
     "name": "stdout",
     "output_type": "stream",
     "text": [
      "[!] Số mẫu sai: 1\n",
      "Một số lỗi phổ biến: [(('Khôi', 'Hiếu'), 1)]\n"
     ]
    }
   ],
   "source": [
    "wrong = [(true, pred) for true, pred in zip(y_test, y_pred) if true != pred]\n",
    "print(f\"[!] Số mẫu sai: {len(wrong)}\")\n",
    "print(\"Một số lỗi phổ biến:\", Counter(wrong).most_common(5))"
   ]
  }
 ],
 "metadata": {
  "kernelspec": {
   "display_name": "tf_dl",
   "language": "python",
   "name": "python3"
  },
  "language_info": {
   "codemirror_mode": {
    "name": "ipython",
    "version": 3
   },
   "file_extension": ".py",
   "mimetype": "text/x-python",
   "name": "python",
   "nbconvert_exporter": "python",
   "pygments_lexer": "ipython3",
   "version": "3.10.16"
  }
 },
 "nbformat": 4,
 "nbformat_minor": 2
}
